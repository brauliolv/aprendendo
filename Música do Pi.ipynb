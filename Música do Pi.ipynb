{
 "cells": [
  {
   "cell_type": "markdown",
   "metadata": {},
   "source": [
    "# Música do Pi"
   ]
  },
  {
   "cell_type": "code",
   "execution_count": 1,
   "metadata": {
    "collapsed": true
   },
   "outputs": [],
   "source": [
    "#!/usr/bin/env python\n",
    "\"\"\"Play a fixed frequency sound.\"\"\"\n",
    "from __future__ import division\n",
    "import math\n",
    "\n",
    "from pyaudio import PyAudio # sudo apt-get install python{,3}-pyaudio\n",
    "\n",
    "try:\n",
    "    from itertools import izip\n",
    "except ImportError: # Python 3\n",
    "    izip = zip\n",
    "    xrange = range\n",
    "\n",
    "def sine_tone(frequency, duration, volume=1, sample_rate=22050):\n",
    "    n_samples = int(sample_rate * duration)\n",
    "    restframes = n_samples % sample_rate\n",
    "\n",
    "    p = PyAudio()\n",
    "    stream = p.open(format=p.get_format_from_width(1), # 8bit\n",
    "                    channels=1, # mono\n",
    "                    rate=sample_rate,\n",
    "                    output=True)\n",
    "    s = lambda t: volume * math.sin(2 * math.pi * frequency * t / sample_rate)\n",
    "    samples = (int(s(t) * 0x7f + 0x80) for t in xrange(n_samples))\n",
    "    for buf in izip(*[samples]*sample_rate): # write several samples at a time\n",
    "        stream.write(bytes(bytearray(buf)))\n",
    "\n",
    "    # fill remainder of frameset with silence\n",
    "    stream.write(b'\\x80' * restframes)\n",
    "\n",
    "    stream.stop_stream()\n",
    "    stream.close()\n",
    "    p.terminate()"
   ]
  },
  {
   "cell_type": "code",
   "execution_count": 2,
   "metadata": {
    "collapsed": true
   },
   "outputs": [],
   "source": [
    "notasatocar=15\n",
    "frequency=440\n",
    "duration=1\n",
    "volume=.01\n",
    "sample_rate=22050\n",
    "pibase10=\"31415926535897932384626433832795028841971693993751058209749445923078164062862089986280348253421170679821480865132823066470938446095505822317253594081284811174502841027019385211055596446229489549303819644288109756659334461284756482337867831652712019091456485669234603486104543266482133936072602491412737245870066063155881748815209209628292540917153643678925903600113305305488204665213841469519415116094330572703657595919530921861173819326117931051185480744623799627495673518857527248912279381830119491298336733624406566430860213949463952247371907021798609437027705392171762931767523846748184676694051320005681271452635608277857713427577896091736371787214684409012249534301465495853710507922796892589235420199561121290219608640344181598136297747713099605187072113499999983729780499510597317328160963185950244594553469083026425223082533446850352619311881710100031378387528865875332083814206171776691473035982534904287554687311595628638823537875937519577818577805321712268066130019278766111959092164201989\"\n",
    "pibase12=\"3184809493B918664573A6211BB151551A05729290A7809A492742140A60A55256A0661A03753A3AA54805646880181A3683083272BBBA0A370B12265529A828903B4B256B8403759A71626B8A54687621849B849A8225616B442796A31737B229B2391489853943B8763725616447236B027A421AA17A38B52A18A838B01514A51144A23315A3009A8906B61B8B48A62253A88A50A43BA0944572315933664476B3AABB77583975120683526B75B462060BB03B432551913772729A2147553531793848A0402B999B5058535374465A68806716644039539A8431935198527B9399B112990ABB0383B107645424577A51601B3624A88B7A676A3992912121A213887B92873946A61332242217AA7354115357744939112602BA4B888818A3269222B528487747839994AB223B65B8762695422822669BA00A586097842A51750362073B5A768363B21BB1A97A4A194447749399804922175A068A46739461990A2065BB0A30BBAB7024A585B1A84428195489784A07A331A7B0A1574565B373B05B03A5A80A13AB87857734679985558A5373178A7B28271992A3894A5776085083B9B238B2220542462888641A2BAB8B3083AB49659172A312B78518654494A068662586A181835A64440B2970A12\""
   ]
  },
  {
   "cell_type": "code",
   "execution_count": 4,
   "metadata": {
    "collapsed": false,
    "scrolled": true
   },
   "outputs": [
    {
     "name": "stdout",
     "output_type": "stream",
     "text": [
      "Nota     Frequência\n",
      " 3    314.2872727272727 Hz\n",
      " 1    269.3890909090909 Hz\n",
      " 8    426.5327272727273 Hz\n",
      " 4    336.73636363636365 Hz\n",
      " 8    426.5327272727273 Hz\n",
      " 0    246.94 Hz\n",
      " 9    448.9818181818182 Hz\n",
      " 4    336.73636363636365 Hz\n",
      " 9    448.9818181818182 Hz\n",
      " 3    314.2872727272727 Hz\n",
      " 11    493.88 Hz\n",
      " 9    448.9818181818182 Hz\n",
      " 1    269.3890909090909 Hz\n",
      " 8    426.5327272727273 Hz\n",
      " 6    381.63454545454545 Hz\n"
     ]
    }
   ],
   "source": [
    "print(\"Nota     Frequência\")\n",
    "for i in range(notasatocar):\n",
    "    if pibase12[i]==\"A\":\n",
    "        fator=10\n",
    "    if pibase12[i]==\"B\":\n",
    "        fator=11\n",
    "    if (pibase12[i]!=\"A\" and pibase12[i]!=\"B\"):\n",
    "        fator=int(pibase12[i])\n",
    "    frequency=(fator/11+1)*246.94\n",
    "    print(\"\",fator,\"  \",frequency,\"Hz\") \n",
    "    sine_tone(frequency, duration, volume, sample_rate)\n",
    "    "
   ]
  }
 ],
 "metadata": {
  "anaconda-cloud": {},
  "celltoolbar": "Raw Cell Format",
  "kernelspec": {
   "display_name": "Python [Root]",
   "language": "python",
   "name": "Python [Root]"
  },
  "language_info": {
   "codemirror_mode": {
    "name": "ipython",
    "version": 3
   },
   "file_extension": ".py",
   "mimetype": "text/x-python",
   "name": "python",
   "nbconvert_exporter": "python",
   "pygments_lexer": "ipython3",
   "version": "3.5.2"
  }
 },
 "nbformat": 4,
 "nbformat_minor": 0
}
